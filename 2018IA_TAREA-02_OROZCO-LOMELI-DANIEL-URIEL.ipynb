{
 "cells": [
  {
   "cell_type": "markdown",
   "metadata": {},
   "source": [
    "# TAREA 2 - ALGORITMO DE DIJKSTRA\n",
    "## Integrantes: Barajas Alcalá Roberto, Orozco Lomelí Daniel Uriel, Sandoval Chávez Héctor Jahir\n",
    "### Para ejecutar el programa es necesario:\n",
    "### - Modificar o sustituir el archivo grafo.txt.\n",
    "### - Modificar la Fuente y Destino de la ruta a analizar."
   ]
  },
  {
   "cell_type": "code",
   "execution_count": 1,
   "metadata": {
    "collapsed": true
   },
   "outputs": [],
   "source": [
    "def readFileretList(file):\n",
    "    archivo = open(input_file,'r') \n",
    "    return [tuple((line.strip()).split(','))for line in archivo.readlines()]"
   ]
  },
  {
   "cell_type": "code",
   "execution_count": 2,
   "metadata": {
    "collapsed": true
   },
   "outputs": [],
   "source": [
    "def matr(list_):\n",
    "    dicc1 = {(item[0],item[1]):item[2] for item in list_}\n",
    "    V = {}\n",
    "    for e in list_:\n",
    "        V[e[0]] = ''\n",
    "        V[e[1]] = ''\n",
    "    V = sorted(list(V.keys()))\n",
    "    indices = {v:idx for idx, v in enumerate(V)}\n",
    "    n = len(V)\n",
    "    M = []\n",
    "    for i in range(n):\n",
    "        M.append([0]*n)\n",
    "    for i in range(n):\n",
    "        for j in range(n):\n",
    "            if dicc1.get((V[i],V[j])):\n",
    "                M[i][j] = float( dicc1.get((V[i],V[j])))\n",
    "            if dicc1.get((V[j],V[i])):\n",
    "                M[i][j] = float( dicc1.get((V[j],V[i])))\n",
    "    return M"
   ]
  },
  {
   "cell_type": "code",
   "execution_count": 3,
   "metadata": {
    "collapsed": true
   },
   "outputs": [],
   "source": [
    "def Encontrar_MinDist(Q):\n",
    "    mindist = 1000\n",
    "    minv = ''\n",
    "    for v in Q:\n",
    "        if v[1] < mindist:\n",
    "            mindist = v[1]\n",
    "            minv = v\n",
    "    return minv"
   ]
  },
  {
   "cell_type": "code",
   "execution_count": 4,
   "metadata": {
    "collapsed": true
   },
   "outputs": [],
   "source": [
    "def Encontrar_Vecinos(Vertice, Matriz, Vertices, vrts):\n",
    "    Indices = {v:idx for idx, v in enumerate(Vertices)}\n",
    "    Vecinos = []\n",
    "    for i in range(len(Vertices)):\n",
    "            if Matriz[Indices[Vertice]][i] != 0 and Vertices[i] in vrts:\n",
    "                Vecinos.append(Vertices[i])\n",
    "    return Vecinos"
   ]
  },
  {
   "cell_type": "code",
   "execution_count": 5,
   "metadata": {
    "collapsed": true
   },
   "outputs": [],
   "source": [
    "def Dijkstra(Grafo, Fuente, Destino):\n",
    "    \n",
    "    Matriz = Grafo[0]\n",
    "    Vertices = Grafo[1]\n",
    "    \n",
    "    vrts = list(Vertices)\n",
    "    \n",
    "    Indices = {v:idx for idx, v in enumerate(Vertices)}\n",
    "    In = {}\n",
    "    In = Indices.copy()\n",
    "    \n",
    "    Q = []\n",
    "    vertex = []\n",
    "    Vecinos = []\n",
    "    \n",
    "    for v in Vertices:\n",
    "        vertex.append(v)\n",
    "        vertex.append(100)\n",
    "        vertex.append(-1)\n",
    "        Q.append(vertex)\n",
    "        vertex = []\n",
    "    \n",
    "    for i in range(len(Vertices)):\n",
    "        if Q[i][0] == Fuente:\n",
    "            Q[i][1] = 0\n",
    "    while len(Q) != 0:\n",
    "        u = Encontrar_MinDist(Q)\n",
    "        Q.remove(u)\n",
    "        vrts.remove(u[0])\n",
    "        In = {v:idx for idx, v in enumerate(vrts)}\n",
    "        Vecinos = Encontrar_Vecinos(u[0], Matriz, Vertices, vrts)\n",
    "        for v in Vecinos:\n",
    "            alt = u[1] + Matriz[Indices[u[0]]][Indices[v]]\n",
    "            if alt < Q[In[v]][1]:\n",
    "                Q[In[v]][1] = alt\n",
    "                Q[In[v]][2] = u\n",
    "        if u[0] == Destino:\n",
    "            break\n",
    "    lista=[]\n",
    "    yb=u\n",
    "    lista.append(u[0])\n",
    "    while(yb[2]!=-1):\n",
    "        yb=yb.pop(2)\n",
    "        lista.append(yb[0])\n",
    "    lista=lista[::-1]\n",
    "    print(\"Trayectoria: \",lista)\n",
    "    print(\"Distancia: \", u[1])"
   ]
  },
  {
   "cell_type": "code",
   "execution_count": 7,
   "metadata": {},
   "outputs": [
    {
     "name": "stdout",
     "output_type": "stream",
     "text": [
      "Trayectoria:  ['24', '14', '76', '61']\n",
      "Distancia:  5.0\n"
     ]
    }
   ],
   "source": [
    "input_file = 'grafo.txt'\n",
    "lista1 = readFileretList(input_file)\n",
    "matrix = matr(lista1)\n",
    "vert = {}\n",
    "\n",
    "for e in lista1:\n",
    "    vert[e[0]] = ''\n",
    "    vert[e[1]] = ''\n",
    "    \n",
    "vert = sorted(list(vert.keys()))\n",
    "\n",
    "grafo = (matrix,vert)\n",
    "\n",
    "# El algoritmo recibe el Grafo, la Fuente y el Destino\n",
    "Dijkstra(grafo,'24','61')"
   ]
  }
 ],
 "metadata": {
  "kernelspec": {
   "display_name": "Python 3",
   "language": "python",
   "name": "python3"
  },
  "language_info": {
   "codemirror_mode": {
    "name": "ipython",
    "version": 3
   },
   "file_extension": ".py",
   "mimetype": "text/x-python",
   "name": "python",
   "nbconvert_exporter": "python",
   "pygments_lexer": "ipython3",
   "version": "3.6.3"
  }
 },
 "nbformat": 4,
 "nbformat_minor": 2
}
